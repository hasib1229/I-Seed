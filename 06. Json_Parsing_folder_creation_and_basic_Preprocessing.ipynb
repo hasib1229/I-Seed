{
 "cells": [
  {
   "cell_type": "code",
   "execution_count": 2,
   "id": "2d64daf2",
   "metadata": {},
   "outputs": [],
   "source": [
    "import pandas as pd\n",
    "import json\n",
    "import os"
   ]
  },
  {
   "cell_type": "code",
   "execution_count": null,
   "id": "dea8c462",
   "metadata": {},
   "outputs": [],
   "source": [
    "dataset_json_path = \"data/Original-I-Seed-Photo/Artificial_Seed_Test_Set.v8i.coco/test/_annotations.coco.json\"\n",
    "result_json_path = \"runs/predict/exp31/result.json\"\n",
    "custom_blue_json_dir_path = \"/home/yanuar/Desktop/Json/Blue/\"\n",
    "custom_blue__param_json_dir_path = \"/home/yanuar/Desktop/Json/Blue/Parameter/\"\n",
    "custom_org_json_dir_path = \"/home/yanuar/Desktop/Json/Org/\"\n",
    "custom_org__param_json_dir_path = \"/home/yanuar/Desktop/Json/Org/Parameter/\"\n",
    "if not os.path.exists(custom_blue_json_dir_path):\n",
    "    os.mkdir(custom_blue_json_dir_path)\n",
    "if not os.path.exists(custom_org_json_dir_path):\n",
    "    os.mkdir(custom_org_json_dir_path)\n",
    "if not os.path.exists(custom_blue__param_json_dir_path):\n",
    "    os.mkdir(custom_blue__param_json_dir_path)\n",
    "if not os.path.exists(custom_org__param_json_dir_path):\n",
    "    os.mkdir(custom_org__param_json_dir_path)"
   ]
  },
  {
   "cell_type": "code",
   "execution_count": null,
   "id": "b3762246",
   "metadata": {},
   "outputs": [],
   "source": [
    "# Getting the data you have\n",
    "with open(dataset_json_path) as f:\n",
    "    data_annot = json.load(f)\n",
    "    \n",
    "with open(result_json_path) as f:\n",
    "    data_res = json.load(f)"
   ]
  },
  {
   "cell_type": "code",
   "execution_count": null,
   "id": "b49fafe3",
   "metadata": {},
   "outputs": [],
   "source": [
    "# The annotation key\n",
    "annot = pd.DataFrame(data_annot['annotations'])\n",
    "annot_blue = annot.query('category_id == 0')\n",
    "annot_org = annot.query('category_id == 1')"
   ]
  },
  {
   "cell_type": "code",
   "execution_count": null,
   "id": "27e7dd1b",
   "metadata": {},
   "outputs": [],
   "source": [
    "# Indexes used to merge\n",
    "idxes_blue = annot_blue['image_id']\n",
    "idxes_org = annot_org['image_id']"
   ]
  },
  {
   "cell_type": "code",
   "execution_count": null,
   "id": "0f60d25d",
   "metadata": {},
   "outputs": [],
   "source": [
    "# images key \n",
    "images = pd.DataFrame(data_annot['images'])\n",
    "img_blue = images[images['id'].isin(idxes_blue)]\n",
    "img_org = images[images['id'].isin(idxes_org)]"
   ]
  },
  {
   "cell_type": "code",
   "execution_count": null,
   "id": "52f361b5",
   "metadata": {},
   "outputs": [],
   "source": [
    "# Exporting data for class blue\n",
    "blue_out = data_annot.copy()\n",
    "blue_out['annotations'] = list(annot_blue.T.to_dict().values())\n",
    "blue_out['images'] = list(img_blue.T.to_dict().values())\n",
    "with open(custom_blue_json_dir_path+\"Blue_annot(Class 0).json\", 'w') as f:\n",
    "    f.write(json.dumps(blue_out))\n",
    "f.close()"
   ]
  },
  {
   "cell_type": "code",
   "execution_count": null,
   "id": "f1f13f9d",
   "metadata": {},
   "outputs": [],
   "source": [
    "# Exporting data for class Original\n",
    "org_out = data_annot.copy()\n",
    "org_out['annotations'] = list(annot_org.T.to_dict().values())\n",
    "org_out['images'] = list(img_org.T.to_dict().values())\n",
    "with open(custom_org_json_dir_path+\"Org_annot(Class 1).json\", 'w') as f:\n",
    "    f.write(json.dumps(org_out))\n",
    "f.close()"
   ]
  },
  {
   "cell_type": "code",
   "execution_count": null,
   "id": "b2203456",
   "metadata": {},
   "outputs": [],
   "source": [
    "# Exporting data for class Original\n",
    "org_out = data_annot.copy()\n",
    "org_out['annotations'] = list(annot_org.T.to_dict().values())\n",
    "org_out['images'] = list(img_org.T.to_dict().values())\n",
    "with open(custom_org_json_dir_path+\"Org_annot(Class 1).json\", 'w') as f:\n",
    "    f.write(json.dumps(org_out))\n",
    "f.close()"
   ]
  },
  {
   "cell_type": "code",
   "execution_count": null,
   "id": "e21322f0",
   "metadata": {},
   "outputs": [],
   "source": [
    "# Exporting results data for class blue\n",
    "blue_res = list(blue.T.to_dict().values())\n",
    "with open(custom_blue_json_dir_path+\"Blue_Results(Class 0).json\", 'w') as f:\n",
    "    f.write(json.dumps(blue_res))\n",
    "f.close()"
   ]
  },
  {
   "cell_type": "code",
   "execution_count": null,
   "id": "d524aa57",
   "metadata": {},
   "outputs": [],
   "source": [
    "# Exporting results data for class original\n",
    "org_res = list(org.T.to_dict().values())\n",
    "with open(custom_org_json_dir_path+\"Org_Results(Class 1).json\", 'w') as f:\n",
    "    f.write(json.dumps(org_res))\n",
    "f.close()"
   ]
  }
 ],
 "metadata": {
  "kernelspec": {
   "display_name": "Python 3 (ipykernel)",
   "language": "python",
   "name": "python3"
  },
  "language_info": {
   "codemirror_mode": {
    "name": "ipython",
    "version": 3
   },
   "file_extension": ".py",
   "mimetype": "text/x-python",
   "name": "python",
   "nbconvert_exporter": "python",
   "pygments_lexer": "ipython3",
   "version": "3.9.15"
  }
 },
 "nbformat": 4,
 "nbformat_minor": 5
}
