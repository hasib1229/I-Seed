{
 "cells": [
  {
   "cell_type": "markdown",
   "metadata": {},
   "source": [
    "# Images Tiling"
   ]
  },
  {
   "cell_type": "markdown",
   "metadata": {},
   "source": [
    "Notebook to split images to tiles with desired size"
   ]
  },
  {
   "cell_type": "markdown",
   "metadata": {},
   "source": [
    "### Importing libraries "
   ]
  },
  {
   "cell_type": "code",
   "execution_count": 5,
   "metadata": {
    "colab": {
     "base_uri": "https://localhost:8080/"
    },
    "id": "hrwjTvMinI5q",
    "outputId": "533bfde7-c214-45ae-9159-3a00227f1447"
   },
   "outputs": [],
   "source": [
    "import slidingwindow\n",
    "import numpy as np\n",
    "import os\n",
    "import cv2\n",
    "import sys\n",
    "import PIL\n",
    "import shutil\n",
    "from PIL import Image"
   ]
  },
  {
   "cell_type": "markdown",
   "metadata": {},
   "source": [
    "### Function for computing windows "
   ]
  },
  {
   "cell_type": "code",
   "execution_count": 2,
   "metadata": {
    "id": "X5x8xs71nP4y"
   },
   "outputs": [],
   "source": [
    "# Function to compute windows / tiles\n",
    "def compute_windows(numpy_image, patch_size, patch_overlap):\n",
    "\n",
    "\n",
    "    if patch_overlap > 1:\n",
    "        raise ValueError(\"Patch overlap {} must be between 0 - 1\".format(patch_overlap))\n",
    "\n",
    "    # Generate overlapping sliding windows\n",
    "    windows = slidingwindow.generate(numpy_image,\n",
    "                                     slidingwindow.DimOrder.HeightWidthChannel,\n",
    "                                     patch_size, patch_overlap)\n",
    "\n",
    "    return (windows)"
   ]
  },
  {
   "cell_type": "markdown",
   "metadata": {},
   "source": [
    "### Image Processing "
   ]
  },
  {
   "cell_type": "code",
   "execution_count": 3,
   "metadata": {
    "colab": {
     "base_uri": "https://localhost:8080/"
    },
    "id": "lfoxevy1ngnD",
    "outputId": "e1fd6cb8-81c2-4911-c3e4-58b199da8c73"
   },
   "outputs": [],
   "source": [
    "# Function to process raw image into tiles (YOLOv5 Model Training Purposes)\n",
    "def Image_processing(files):\n",
    "    for file in files:\n",
    "        dirname = file.split(\".\")[0]\n",
    "        imgpath = dir + file\n",
    "        img = cv2.imread(imgpath)\n",
    "        print(img)\n",
    "        img = np.asarray(img)\n",
    "        windows = compute_windows(img, 512, 0)\n",
    "        if not os.path.exists(dir + dirname):\n",
    "            os.makedirs(dir + dirname)\n",
    "            for index, window in enumerate(windows):\n",
    "                crop = img[windows[index].indices()]\n",
    "                crop = crop[:,:,::-1] #convert RGB to BGR\n",
    "                chip = Image.fromarray(crop, \"RGB\")\n",
    "                chip.save(dir + dirname + \"/\" + dirname + \"_\" + str(index) + \".jpg\")\n",
    "        else:\n",
    "            for index, window in enumerate(windows):\n",
    "                crop = img[windows[index].indices()]\n",
    "                crop = crop[:,:,::-1] #convert RGB to BGR\n",
    "                chip = Image.fromarray(crop, \"RGB\")\n",
    "                chip.save(dir + dirname + \"/\" + dirname + \"_\" + str(index) + \".jpg\")\n",
    "        print(file)"
   ]
  }
 ],
 "metadata": {
  "accelerator": "GPU",
  "colab": {
   "name": "Images Tiling.ipynb",
   "provenance": []
  },
  "kernelspec": {
   "display_name": "Python 3 (ipykernel)",
   "language": "python",
   "name": "python3"
  },
  "language_info": {
   "codemirror_mode": {
    "name": "ipython",
    "version": 3
   },
   "file_extension": ".py",
   "mimetype": "text/x-python",
   "name": "python",
   "nbconvert_exporter": "python",
   "pygments_lexer": "ipython3",
   "version": "3.9.15"
  }
 },
 "nbformat": 4,
 "nbformat_minor": 1
}
