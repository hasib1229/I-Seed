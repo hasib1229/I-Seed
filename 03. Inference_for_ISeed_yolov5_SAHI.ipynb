{
 "cells": [
  {
   "cell_type": "markdown",
   "metadata": {},
   "source": [
    "# I-Seed Model Training with YOLOv5"
   ]
  },
  {
   "cell_type": "markdown",
   "metadata": {
    "id": "XMYIg9-AJLCx"
   },
   "source": [
    "## Preperation"
   ]
  },
  {
   "cell_type": "markdown",
   "metadata": {
    "id": "eWV_lgXAJLCz"
   },
   "source": [
    "- Import required modules:"
   ]
  },
  {
   "cell_type": "code",
   "execution_count": 1,
   "metadata": {
    "id": "JYrwEDywJLCz",
    "scrolled": true
   },
   "outputs": [
    {
     "data": {
      "text/plain": [
       "'/home/yanuar/Internship/Model/yolov5'"
      ]
     },
     "execution_count": 1,
     "metadata": {},
     "output_type": "execute_result"
    }
   ],
   "source": [
    "import os\n",
    "import numpy as np\n",
    "import pandas as pd\n",
    "import rasterio\n",
    "import geopandas\n",
    "import descartes\n",
    "import shapely\n",
    "from shapely.geometry import Point, Polygon\n",
    "os.getcwd()"
   ]
  },
  {
   "cell_type": "code",
   "execution_count": 2,
   "metadata": {
    "id": "3EjEfTU7JLCz"
   },
   "outputs": [],
   "source": [
    "# arrange an instance segmentation model for test\n",
    "from sahi.utils.yolov5 import (\n",
    "    download_yolov5s6_model,\n",
    ")\n",
    "\n",
    "# import required functions, classes\n",
    "from sahi.model import Yolov5DetectionModel\n",
    "from sahi.utils.cv import read_image\n",
    "from sahi.utils.file import download_from_url\n",
    "from sahi.predict import get_prediction, get_sliced_prediction, predict\n",
    "from IPython.display import Image\n",
    "from skimage.io import imread"
   ]
  },
  {
   "cell_type": "code",
   "execution_count": 39,
   "metadata": {
    "id": "iNFhYn0NJLC0",
    "scrolled": true
   },
   "outputs": [],
   "source": [
    "# ISeed Yolov5 Model path\n",
    "yolov5_model_path = 'runs/train/exp26/weights/best.pt'"
   ]
  },
  {
   "cell_type": "code",
   "execution_count": 40,
   "metadata": {},
   "outputs": [],
   "source": [
    "detection_model = Yolov5DetectionModel(\n",
    "    model_path= yolov5_model_path,\n",
    "    confidence_threshold=0.5,\n",
    "    device='cuda:0'\n",
    ")"
   ]
  },
  {
   "cell_type": "markdown",
   "metadata": {
    "id": "Pkkxjrg8JLC3"
   },
   "source": [
    "## Sliced Inference with a YOLOv5 & SAHI"
   ]
  },
  {
   "cell_type": "markdown",
   "metadata": {
    "id": "2ZTTwwoqJLC6"
   },
   "source": [
    "## Batch Prediction"
   ]
  },
  {
   "cell_type": "markdown",
   "metadata": {
    "id": "g-hf9bvgJLC6"
   },
   "source": [
    "- Set model and directory parameters:"
   ]
  },
  {
   "cell_type": "code",
   "execution_count": 41,
   "metadata": {
    "id": "idHJKRsjJLC6"
   },
   "outputs": [],
   "source": [
    "model_type = \"yolov5\"\n",
    "model_path = yolov5_model_path\n",
    "model_device = \"cuda:0\" # or 'cuda:0'\n",
    "model_confidence_threshold = 0.5\n",
    "\n",
    "slice_height = 512\n",
    "slice_width = 512\n",
    "overlap_height_ratio = 0.1\n",
    "overlap_width_ratio = 0.1\n",
    "\n",
    "source_image = \"data/Raw Data/DS6/3rd flight\" #Test data path\n",
    "image = imread(source_image).astype(np.uint8)"
   ]
  },
  {
   "cell_type": "markdown",
   "metadata": {
    "id": "G_sjuewzJLC6"
   },
   "source": [
    "- Perform sliced inference on given folder:"
   ]
  },
  {
   "cell_type": "code",
   "execution_count": 42,
   "metadata": {
    "id": "Ujhm9HTtJLC6",
    "outputId": "1b1f2610-9cac-4641-9cae-b532dec8a209"
   },
   "outputs": [
    {
     "name": "stderr",
     "output_type": "stream",
     "text": [
      "Performing inference on images:   0%|                     | 0/1 [00:07<?, ?it/s]"
     ]
    },
    {
     "name": "stdout",
     "output_type": "stream",
     "text": [
      "Performing prediction on 2920 number of slices.\n"
     ]
    },
    {
     "name": "stderr",
     "output_type": "stream",
     "text": [
      "Performing inference on images:   0%|                     | 0/1 [01:52<?, ?it/s]"
     ]
    },
    {
     "name": "stdout",
     "output_type": "stream",
     "text": [
      "Prediction time is: 107997.22 ms\n"
     ]
    },
    {
     "name": "stderr",
     "output_type": "stream",
     "text": [
      "Performing inference on images: 100%|████████████| 1/1 [02:25<00:00, 145.12s/it]"
     ]
    },
    {
     "name": "stdout",
     "output_type": "stream",
     "text": [
      "Prediction results are successfully exported to runs/predict/exp20\n"
     ]
    },
    {
     "name": "stderr",
     "output_type": "stream",
     "text": [
      "\n"
     ]
    },
    {
     "data": {
      "text/plain": [
       "{'export_dir': PosixPath('runs/predict/exp20')}"
      ]
     },
     "execution_count": 42,
     "metadata": {},
     "output_type": "execute_result"
    }
   ],
   "source": [
    "predict(\n",
    "    model_type=model_type,\n",
    "    model_path=model_path,\n",
    "    model_device=model_device,\n",
    "    model_confidence_threshold=model_confidence_threshold,\n",
    "    source=source_image,\n",
    "    slice_height=slice_height,\n",
    "    slice_width=slice_width,\n",
    "    overlap_height_ratio=overlap_height_ratio,\n",
    "    overlap_width_ratio=overlap_width_ratio,\n",
    "    postprocess_type = 'NMS',\n",
    "    postprocess_match_metric = \"IOS\",\n",
    "    postprocess_match_threshold= 0.5,\n",
    "    visual_bbox_thickness= 1,\n",
    "    visual_text_size= 0.1,\n",
    "    visual_text_thickness= 1,\n",
    "    return_dict= True ,\n",
    "    export_pickle=True,\n",
    "    export_crop=True\n",
    ")"
   ]
  }
 ],
 "metadata": {
  "colab": {
   "name": "Copy of inference_for_yolov5.ipynb",
   "provenance": []
  },
  "kernelspec": {
   "display_name": "Python 3 (ipykernel)",
   "language": "python",
   "name": "python3"
  },
  "language_info": {
   "codemirror_mode": {
    "name": "ipython",
    "version": 3
   },
   "file_extension": ".py",
   "mimetype": "text/x-python",
   "name": "python",
   "nbconvert_exporter": "python",
   "pygments_lexer": "ipython3",
   "version": "3.9.15"
  }
 },
 "nbformat": 4,
 "nbformat_minor": 1
}
