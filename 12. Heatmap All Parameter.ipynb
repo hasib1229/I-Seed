{
 "cells": [
  {
   "cell_type": "code",
   "execution_count": 1,
   "id": "0d592f10",
   "metadata": {},
   "outputs": [],
   "source": [
    "# Preprocessing Libraries\n",
    "import os\n",
    "import json\n",
    "import pandas as pd\n",
    "\n",
    "# Plotting Libraries\n",
    "import plotly.figure_factory as ff\n",
    "import plotly.graph_objects as go\n",
    "import plotly.express as px"
   ]
  },
  {
   "cell_type": "code",
   "execution_count": 2,
   "id": "05614a86",
   "metadata": {},
   "outputs": [],
   "source": [
    "def put_evals_to_dfs(folder_whole_path, folder_class_blue_path, folder_class_org_path):\n",
    "\n",
    "    # The containers of data\n",
    "    DATA_PATHes = [folder_whole_path, folder_class_blue_path, folder_class_org_path]\n",
    "    dfs = [{}]*3\n",
    "    \n",
    "    # For each container from the containers (which are folder whole or a specific class)\n",
    "    for idx in range(3):\n",
    "        DATA_PATH = DATA_PATHes[idx]\n",
    "        \n",
    "        # For each file at this container\n",
    "        for filename in os.listdir(DATA_PATH):\n",
    "            param_name = filename[5:-5]\n",
    "            path = DATA_PATH + '/' + filename\n",
    "            metrics_values = {}\n",
    "            with open(path, 'r') as f:\n",
    "                metrics_values = json.load(f)\n",
    "                metrics_values.pop('bbox_mAP_copypaste')\n",
    "            \n",
    "            # Add all the metrics for this filename\n",
    "            dfs[idx][param_name] = metrics_values\n",
    "        dfs[idx] = pd.DataFrame(dfs[idx]).T.reset_index()\n",
    "        \n",
    "    return dfs"
   ]
  },
  {
   "cell_type": "code",
   "execution_count": 3,
   "id": "06a80624",
   "metadata": {},
   "outputs": [],
   "source": [
    "# Get the three dataframes\n",
    "dfs = put_evals_to_dfs(\"/home/yanuar/Desktop/Json/Whole/Parameter/eval\", \"/home/yanuar/Desktop/Json/Blue/Parameter/eval\",\n",
    "                       \"/home/yanuar/Desktop/Json/Org/Parameter/eval\")"
   ]
  },
  {
   "cell_type": "code",
   "execution_count": 4,
   "id": "8d3fd3b1",
   "metadata": {},
   "outputs": [],
   "source": [
    "# Order the parameters\n",
    "def evaluate(s):\n",
    "    lista = s.split('_')\n",
    "    value = 0\n",
    "    if lista[0] == 'Su':\n",
    "        value += 200\n",
    "    else:\n",
    "        value += 100\n",
    "        \n",
    "    mapping = {str(num)+'m':v for num, v in zip(range(4, 11, 2), range(10, 41, 10))}\n",
    "    value += mapping[lista[1]]\n",
    "    \n",
    "    mapping = {letters:v for letters, v in zip(['Co', 'Gr', 'SG', 'So'], range(1, 5))}\n",
    "    value += mapping[lista[2]]\n",
    "    return value\n"
   ]
  },
  {
   "cell_type": "code",
   "execution_count": 5,
   "id": "fddfe1ce",
   "metadata": {},
   "outputs": [],
   "source": [
    "val_name = [str(evaluate(s))+s for s in dfs[0]['index']]\n",
    "val_name = sorted(val_name, key=lambda x : x[:3])\n",
    "val_name = list(map(lambda x : x[3:], val_name))"
   ]
  },
  {
   "cell_type": "code",
   "execution_count": 6,
   "id": "c3a6edcc",
   "metadata": {},
   "outputs": [],
   "source": [
    "# Order parameters on the dataframes based on the above order\n",
    "for idx in range(3):\n",
    "    dfs[idx][\"index\"] = pd.Categorical(dfs[idx][\"index\"], categories = val_name)\n",
    "    dfs[idx] = dfs[idx].sort_values(by = \"index\")"
   ]
  },
  {
   "cell_type": "code",
   "execution_count": 7,
   "id": "2c183fa4",
   "metadata": {},
   "outputs": [],
   "source": [
    "# Metrics\n",
    "metrics = ['bbox_mAP', 'bbox_mAP50', 'bbox_mAP75', 'bbox_mAP_s', 'bbox_mAP_m', 'bbox_mAP_l', 'bbox_mAP50_s', 'bbox_mAP50_m', 'bbox_mAP50_l']\n",
    "wanted_metrics = ['bbox_mAP', 'bbox_mAP50']"
   ]
  },
  {
   "cell_type": "code",
   "execution_count": 10,
   "id": "834f67fd",
   "metadata": {},
   "outputs": [
    {
     "data": {
      "application/vnd.plotly.v1+json": {
       "config": {
        "plotlyServerURL": "https://plot.ly"
       },
       "data": [
        {
         "colorscale": [
          [
           0,
           "rgb(165,0,38)"
          ],
          [
           0.1,
           "rgb(215,48,39)"
          ],
          [
           0.2,
           "rgb(244,109,67)"
          ],
          [
           0.3,
           "rgb(253,174,97)"
          ],
          [
           0.4,
           "rgb(254,224,139)"
          ],
          [
           0.5,
           "rgb(255,255,191)"
          ],
          [
           0.6,
           "rgb(217,239,139)"
          ],
          [
           0.7,
           "rgb(166,217,106)"
          ],
          [
           0.8,
           "rgb(102,189,99)"
          ],
          [
           0.9,
           "rgb(26,152,80)"
          ],
          [
           1,
           "rgb(0,104,55)"
          ]
         ],
         "hoverongaps": false,
         "text": [
          [
           0.757,
           0.751,
           0.763,
           1,
           1,
           1
          ],
          [
           0.235,
           0.326,
           0.144,
           0.475,
           0.736,
           0.215
          ],
          [
           0.725,
           0.703,
           0.748,
           0.993,
           1,
           0.986
          ],
          [
           0.788,
           0.773,
           0.802,
           0.997,
           1,
           0.995
          ],
          [
           0.724,
           0.719,
           0.73,
           1,
           1,
           1
          ],
          [
           0.156,
           0.265,
           0.048,
           0.376,
           0.639,
           0.113
          ],
          [
           0.667,
           0.655,
           0.68,
           0.973,
           0.994,
           0.953
          ],
          [
           0.718,
           0.711,
           0.725,
           0.991,
           1,
           0.983
          ],
          [
           0.706,
           0.709,
           0.703,
           0.996,
           1,
           0.991
          ],
          [
           0.136,
           0.19,
           0.082,
           0.347,
           0.524,
           0.17
          ],
          [
           0.598,
           0.615,
           0.581,
           0.97,
           0.98,
           0.96
          ],
          [
           0.676,
           0.694,
           0.658,
           0.976,
           0.999,
           0.952
          ],
          [
           0.602,
           0.605,
           0.598,
           0.988,
           1,
           0.976
          ],
          [
           0.075,
           0.131,
           0.018,
           0.211,
           0.372,
           0.05
          ],
          [
           0.508,
           0.545,
           0.47,
           0.846,
           0.949,
           0.743
          ],
          [
           0.596,
           0.641,
           0.552,
           0.959,
           0.997,
           0.921
          ],
          [
           0.663,
           0.676,
           0.649,
           0.986,
           0.983,
           0.988
          ],
          [
           0.149,
           0.285,
           0.013,
           0.353,
           0.686,
           0.02
          ],
          [
           0.582,
           0.68,
           0.484,
           0.825,
           0.944,
           0.707
          ],
          [
           0.548,
           0.623,
           0.473,
           0.828,
           0.95,
           0.706
          ],
          [
           0.581,
           0.582,
           0.58,
           0.989,
           1,
           0.978
          ],
          [
           0.124,
           0.247,
           0.001,
           0.306,
           0.611,
           0.001
          ],
          [
           0.468,
           0.581,
           0.356,
           0.756,
           0.95,
           0.562
          ],
          [
           0.478,
           0.517,
           0.44,
           0.795,
           0.92,
           0.67
          ],
          [
           0.511,
           0.527,
           0.496,
           0.95,
           1,
           0.9
          ],
          [
           0.048,
           0.096,
           0,
           0.172,
           0.344,
           0
          ],
          [
           0.327,
           0.437,
           0.216,
           0.642,
           0.924,
           0.36
          ],
          [
           0.362,
           0.399,
           0.326,
           0.728,
           0.875,
           0.58
          ],
          [
           0.431,
           0.457,
           0.406,
           0.863,
           0.988,
           0.739
          ],
          [
           0.036,
           0.071,
           0,
           0.125,
           0.25,
           0
          ],
          [
           0.23,
           0.317,
           0.143,
           0.552,
           0.803,
           0.302
          ],
          [
           0.274,
           0.343,
           0.206,
           0.667,
           0.903,
           0.431
          ]
         ],
         "texttemplate": "%{text}",
         "type": "heatmap",
         "x": [
          "mAP_Class_Whole",
          "mAP_Class_Blue",
          "mAP_Class_Orignial",
          "mAP50_Class_Whole",
          "mAP50_Class_Blue",
          "mAP50_Class_Orignial"
         ],
         "y": [
          "Ov_4m_Co",
          "Ov_4m_Gr",
          "Ov_4m_SG",
          "Ov_4m_So",
          "Ov_6m_Co",
          "Ov_6m_Gr",
          "Ov_6m_SG",
          "Ov_6m_So",
          "Ov_8m_Co",
          "Ov_8m_Gr",
          "Ov_8m_SG",
          "Ov_8m_So",
          "Ov_10m_Co",
          "Ov_10m_Gr",
          "Ov_10m_SG",
          "Ov_10m_So",
          "Su_4m_Co",
          "Su_4m_Gr",
          "Su_4m_SG",
          "Su_4m_So",
          "Su_6m_Co",
          "Su_6m_Gr",
          "Su_6m_SG",
          "Su_6m_So",
          "Su_8m_Co",
          "Su_8m_Gr",
          "Su_8m_SG",
          "Su_8m_So",
          "Su_10m_Co",
          "Su_10m_Gr",
          "Su_10m_SG",
          "Su_10m_So"
         ],
         "z": [
          [
           0.757,
           0.751,
           0.763,
           1,
           1,
           1
          ],
          [
           0.235,
           0.326,
           0.144,
           0.475,
           0.736,
           0.215
          ],
          [
           0.725,
           0.703,
           0.748,
           0.993,
           1,
           0.986
          ],
          [
           0.788,
           0.773,
           0.802,
           0.997,
           1,
           0.995
          ],
          [
           0.724,
           0.719,
           0.73,
           1,
           1,
           1
          ],
          [
           0.156,
           0.265,
           0.048,
           0.376,
           0.639,
           0.113
          ],
          [
           0.667,
           0.655,
           0.68,
           0.973,
           0.994,
           0.953
          ],
          [
           0.718,
           0.711,
           0.725,
           0.991,
           1,
           0.983
          ],
          [
           0.706,
           0.709,
           0.703,
           0.996,
           1,
           0.991
          ],
          [
           0.136,
           0.19,
           0.082,
           0.347,
           0.524,
           0.17
          ],
          [
           0.598,
           0.615,
           0.581,
           0.97,
           0.98,
           0.96
          ],
          [
           0.676,
           0.694,
           0.658,
           0.976,
           0.999,
           0.952
          ],
          [
           0.602,
           0.605,
           0.598,
           0.988,
           1,
           0.976
          ],
          [
           0.075,
           0.131,
           0.018,
           0.211,
           0.372,
           0.05
          ],
          [
           0.508,
           0.545,
           0.47,
           0.846,
           0.949,
           0.743
          ],
          [
           0.596,
           0.641,
           0.552,
           0.959,
           0.997,
           0.921
          ],
          [
           0.663,
           0.676,
           0.649,
           0.986,
           0.983,
           0.988
          ],
          [
           0.149,
           0.285,
           0.013,
           0.353,
           0.686,
           0.02
          ],
          [
           0.582,
           0.68,
           0.484,
           0.825,
           0.944,
           0.707
          ],
          [
           0.548,
           0.623,
           0.473,
           0.828,
           0.95,
           0.706
          ],
          [
           0.581,
           0.582,
           0.58,
           0.989,
           1,
           0.978
          ],
          [
           0.124,
           0.247,
           0.001,
           0.306,
           0.611,
           0.001
          ],
          [
           0.468,
           0.581,
           0.356,
           0.756,
           0.95,
           0.562
          ],
          [
           0.478,
           0.517,
           0.44,
           0.795,
           0.92,
           0.67
          ],
          [
           0.511,
           0.527,
           0.496,
           0.95,
           1,
           0.9
          ],
          [
           0.048,
           0.096,
           0,
           0.172,
           0.344,
           0
          ],
          [
           0.327,
           0.437,
           0.216,
           0.642,
           0.924,
           0.36
          ],
          [
           0.362,
           0.399,
           0.326,
           0.728,
           0.875,
           0.58
          ],
          [
           0.431,
           0.457,
           0.406,
           0.863,
           0.988,
           0.739
          ],
          [
           0.036,
           0.071,
           0,
           0.125,
           0.25,
           0
          ],
          [
           0.23,
           0.317,
           0.143,
           0.552,
           0.803,
           0.302
          ],
          [
           0.274,
           0.343,
           0.206,
           0.667,
           0.903,
           0.431
          ]
         ]
        }
       ],
       "layout": {
        "annotations": [
         {
          "font": {
           "color": "black",
           "family": "Arial",
           "size": 12
          },
          "showarrow": false,
          "text": " Whole Class     Blue Class    Original Class",
          "x": 1,
          "y": 32
         },
         {
          "font": {
           "color": "black",
           "family": "Arial",
           "size": 12
          },
          "showarrow": false,
          "text": " Whole Class     Blue Class    Original Class",
          "x": 4,
          "y": 32
         }
        ],
        "height": 1600,
        "template": {
         "data": {
          "bar": [
           {
            "error_x": {
             "color": "#2a3f5f"
            },
            "error_y": {
             "color": "#2a3f5f"
            },
            "marker": {
             "line": {
              "color": "white",
              "width": 0.5
             },
             "pattern": {
              "fillmode": "overlay",
              "size": 10,
              "solidity": 0.2
             }
            },
            "type": "bar"
           }
          ],
          "barpolar": [
           {
            "marker": {
             "line": {
              "color": "white",
              "width": 0.5
             },
             "pattern": {
              "fillmode": "overlay",
              "size": 10,
              "solidity": 0.2
             }
            },
            "type": "barpolar"
           }
          ],
          "carpet": [
           {
            "aaxis": {
             "endlinecolor": "#2a3f5f",
             "gridcolor": "#C8D4E3",
             "linecolor": "#C8D4E3",
             "minorgridcolor": "#C8D4E3",
             "startlinecolor": "#2a3f5f"
            },
            "baxis": {
             "endlinecolor": "#2a3f5f",
             "gridcolor": "#C8D4E3",
             "linecolor": "#C8D4E3",
             "minorgridcolor": "#C8D4E3",
             "startlinecolor": "#2a3f5f"
            },
            "type": "carpet"
           }
          ],
          "choropleth": [
           {
            "colorbar": {
             "outlinewidth": 0,
             "ticks": ""
            },
            "type": "choropleth"
           }
          ],
          "contour": [
           {
            "colorbar": {
             "outlinewidth": 0,
             "ticks": ""
            },
            "colorscale": [
             [
              0,
              "#0d0887"
             ],
             [
              0.1111111111111111,
              "#46039f"
             ],
             [
              0.2222222222222222,
              "#7201a8"
             ],
             [
              0.3333333333333333,
              "#9c179e"
             ],
             [
              0.4444444444444444,
              "#bd3786"
             ],
             [
              0.5555555555555556,
              "#d8576b"
             ],
             [
              0.6666666666666666,
              "#ed7953"
             ],
             [
              0.7777777777777778,
              "#fb9f3a"
             ],
             [
              0.8888888888888888,
              "#fdca26"
             ],
             [
              1,
              "#f0f921"
             ]
            ],
            "type": "contour"
           }
          ],
          "contourcarpet": [
           {
            "colorbar": {
             "outlinewidth": 0,
             "ticks": ""
            },
            "type": "contourcarpet"
           }
          ],
          "heatmap": [
           {
            "colorbar": {
             "outlinewidth": 0,
             "ticks": ""
            },
            "colorscale": [
             [
              0,
              "#0d0887"
             ],
             [
              0.1111111111111111,
              "#46039f"
             ],
             [
              0.2222222222222222,
              "#7201a8"
             ],
             [
              0.3333333333333333,
              "#9c179e"
             ],
             [
              0.4444444444444444,
              "#bd3786"
             ],
             [
              0.5555555555555556,
              "#d8576b"
             ],
             [
              0.6666666666666666,
              "#ed7953"
             ],
             [
              0.7777777777777778,
              "#fb9f3a"
             ],
             [
              0.8888888888888888,
              "#fdca26"
             ],
             [
              1,
              "#f0f921"
             ]
            ],
            "type": "heatmap"
           }
          ],
          "heatmapgl": [
           {
            "colorbar": {
             "outlinewidth": 0,
             "ticks": ""
            },
            "colorscale": [
             [
              0,
              "#0d0887"
             ],
             [
              0.1111111111111111,
              "#46039f"
             ],
             [
              0.2222222222222222,
              "#7201a8"
             ],
             [
              0.3333333333333333,
              "#9c179e"
             ],
             [
              0.4444444444444444,
              "#bd3786"
             ],
             [
              0.5555555555555556,
              "#d8576b"
             ],
             [
              0.6666666666666666,
              "#ed7953"
             ],
             [
              0.7777777777777778,
              "#fb9f3a"
             ],
             [
              0.8888888888888888,
              "#fdca26"
             ],
             [
              1,
              "#f0f921"
             ]
            ],
            "type": "heatmapgl"
           }
          ],
          "histogram": [
           {
            "marker": {
             "pattern": {
              "fillmode": "overlay",
              "size": 10,
              "solidity": 0.2
             }
            },
            "type": "histogram"
           }
          ],
          "histogram2d": [
           {
            "colorbar": {
             "outlinewidth": 0,
             "ticks": ""
            },
            "colorscale": [
             [
              0,
              "#0d0887"
             ],
             [
              0.1111111111111111,
              "#46039f"
             ],
             [
              0.2222222222222222,
              "#7201a8"
             ],
             [
              0.3333333333333333,
              "#9c179e"
             ],
             [
              0.4444444444444444,
              "#bd3786"
             ],
             [
              0.5555555555555556,
              "#d8576b"
             ],
             [
              0.6666666666666666,
              "#ed7953"
             ],
             [
              0.7777777777777778,
              "#fb9f3a"
             ],
             [
              0.8888888888888888,
              "#fdca26"
             ],
             [
              1,
              "#f0f921"
             ]
            ],
            "type": "histogram2d"
           }
          ],
          "histogram2dcontour": [
           {
            "colorbar": {
             "outlinewidth": 0,
             "ticks": ""
            },
            "colorscale": [
             [
              0,
              "#0d0887"
             ],
             [
              0.1111111111111111,
              "#46039f"
             ],
             [
              0.2222222222222222,
              "#7201a8"
             ],
             [
              0.3333333333333333,
              "#9c179e"
             ],
             [
              0.4444444444444444,
              "#bd3786"
             ],
             [
              0.5555555555555556,
              "#d8576b"
             ],
             [
              0.6666666666666666,
              "#ed7953"
             ],
             [
              0.7777777777777778,
              "#fb9f3a"
             ],
             [
              0.8888888888888888,
              "#fdca26"
             ],
             [
              1,
              "#f0f921"
             ]
            ],
            "type": "histogram2dcontour"
           }
          ],
          "mesh3d": [
           {
            "colorbar": {
             "outlinewidth": 0,
             "ticks": ""
            },
            "type": "mesh3d"
           }
          ],
          "parcoords": [
           {
            "line": {
             "colorbar": {
              "outlinewidth": 0,
              "ticks": ""
             }
            },
            "type": "parcoords"
           }
          ],
          "pie": [
           {
            "automargin": true,
            "type": "pie"
           }
          ],
          "scatter": [
           {
            "marker": {
             "colorbar": {
              "outlinewidth": 0,
              "ticks": ""
             }
            },
            "type": "scatter"
           }
          ],
          "scatter3d": [
           {
            "line": {
             "colorbar": {
              "outlinewidth": 0,
              "ticks": ""
             }
            },
            "marker": {
             "colorbar": {
              "outlinewidth": 0,
              "ticks": ""
             }
            },
            "type": "scatter3d"
           }
          ],
          "scattercarpet": [
           {
            "marker": {
             "colorbar": {
              "outlinewidth": 0,
              "ticks": ""
             }
            },
            "type": "scattercarpet"
           }
          ],
          "scattergeo": [
           {
            "marker": {
             "colorbar": {
              "outlinewidth": 0,
              "ticks": ""
             }
            },
            "type": "scattergeo"
           }
          ],
          "scattergl": [
           {
            "marker": {
             "colorbar": {
              "outlinewidth": 0,
              "ticks": ""
             }
            },
            "type": "scattergl"
           }
          ],
          "scattermapbox": [
           {
            "marker": {
             "colorbar": {
              "outlinewidth": 0,
              "ticks": ""
             }
            },
            "type": "scattermapbox"
           }
          ],
          "scatterpolar": [
           {
            "marker": {
             "colorbar": {
              "outlinewidth": 0,
              "ticks": ""
             }
            },
            "type": "scatterpolar"
           }
          ],
          "scatterpolargl": [
           {
            "marker": {
             "colorbar": {
              "outlinewidth": 0,
              "ticks": ""
             }
            },
            "type": "scatterpolargl"
           }
          ],
          "scatterternary": [
           {
            "marker": {
             "colorbar": {
              "outlinewidth": 0,
              "ticks": ""
             }
            },
            "type": "scatterternary"
           }
          ],
          "surface": [
           {
            "colorbar": {
             "outlinewidth": 0,
             "ticks": ""
            },
            "colorscale": [
             [
              0,
              "#0d0887"
             ],
             [
              0.1111111111111111,
              "#46039f"
             ],
             [
              0.2222222222222222,
              "#7201a8"
             ],
             [
              0.3333333333333333,
              "#9c179e"
             ],
             [
              0.4444444444444444,
              "#bd3786"
             ],
             [
              0.5555555555555556,
              "#d8576b"
             ],
             [
              0.6666666666666666,
              "#ed7953"
             ],
             [
              0.7777777777777778,
              "#fb9f3a"
             ],
             [
              0.8888888888888888,
              "#fdca26"
             ],
             [
              1,
              "#f0f921"
             ]
            ],
            "type": "surface"
           }
          ],
          "table": [
           {
            "cells": {
             "fill": {
              "color": "#EBF0F8"
             },
             "line": {
              "color": "white"
             }
            },
            "header": {
             "fill": {
              "color": "#C8D4E3"
             },
             "line": {
              "color": "white"
             }
            },
            "type": "table"
           }
          ]
         },
         "layout": {
          "annotationdefaults": {
           "arrowcolor": "#2a3f5f",
           "arrowhead": 0,
           "arrowwidth": 1
          },
          "autotypenumbers": "strict",
          "coloraxis": {
           "colorbar": {
            "outlinewidth": 0,
            "ticks": ""
           }
          },
          "colorscale": {
           "diverging": [
            [
             0,
             "#8e0152"
            ],
            [
             0.1,
             "#c51b7d"
            ],
            [
             0.2,
             "#de77ae"
            ],
            [
             0.3,
             "#f1b6da"
            ],
            [
             0.4,
             "#fde0ef"
            ],
            [
             0.5,
             "#f7f7f7"
            ],
            [
             0.6,
             "#e6f5d0"
            ],
            [
             0.7,
             "#b8e186"
            ],
            [
             0.8,
             "#7fbc41"
            ],
            [
             0.9,
             "#4d9221"
            ],
            [
             1,
             "#276419"
            ]
           ],
           "sequential": [
            [
             0,
             "#0d0887"
            ],
            [
             0.1111111111111111,
             "#46039f"
            ],
            [
             0.2222222222222222,
             "#7201a8"
            ],
            [
             0.3333333333333333,
             "#9c179e"
            ],
            [
             0.4444444444444444,
             "#bd3786"
            ],
            [
             0.5555555555555556,
             "#d8576b"
            ],
            [
             0.6666666666666666,
             "#ed7953"
            ],
            [
             0.7777777777777778,
             "#fb9f3a"
            ],
            [
             0.8888888888888888,
             "#fdca26"
            ],
            [
             1,
             "#f0f921"
            ]
           ],
           "sequentialminus": [
            [
             0,
             "#0d0887"
            ],
            [
             0.1111111111111111,
             "#46039f"
            ],
            [
             0.2222222222222222,
             "#7201a8"
            ],
            [
             0.3333333333333333,
             "#9c179e"
            ],
            [
             0.4444444444444444,
             "#bd3786"
            ],
            [
             0.5555555555555556,
             "#d8576b"
            ],
            [
             0.6666666666666666,
             "#ed7953"
            ],
            [
             0.7777777777777778,
             "#fb9f3a"
            ],
            [
             0.8888888888888888,
             "#fdca26"
            ],
            [
             1,
             "#f0f921"
            ]
           ]
          },
          "colorway": [
           "#636efa",
           "#EF553B",
           "#00cc96",
           "#ab63fa",
           "#FFA15A",
           "#19d3f3",
           "#FF6692",
           "#B6E880",
           "#FF97FF",
           "#FECB52"
          ],
          "font": {
           "color": "#2a3f5f"
          },
          "geo": {
           "bgcolor": "white",
           "lakecolor": "white",
           "landcolor": "white",
           "showlakes": true,
           "showland": true,
           "subunitcolor": "#C8D4E3"
          },
          "hoverlabel": {
           "align": "left"
          },
          "hovermode": "closest",
          "mapbox": {
           "style": "light"
          },
          "paper_bgcolor": "white",
          "plot_bgcolor": "white",
          "polar": {
           "angularaxis": {
            "gridcolor": "#EBF0F8",
            "linecolor": "#EBF0F8",
            "ticks": ""
           },
           "bgcolor": "white",
           "radialaxis": {
            "gridcolor": "#EBF0F8",
            "linecolor": "#EBF0F8",
            "ticks": ""
           }
          },
          "scene": {
           "xaxis": {
            "backgroundcolor": "white",
            "gridcolor": "#DFE8F3",
            "gridwidth": 2,
            "linecolor": "#EBF0F8",
            "showbackground": true,
            "ticks": "",
            "zerolinecolor": "#EBF0F8"
           },
           "yaxis": {
            "backgroundcolor": "white",
            "gridcolor": "#DFE8F3",
            "gridwidth": 2,
            "linecolor": "#EBF0F8",
            "showbackground": true,
            "ticks": "",
            "zerolinecolor": "#EBF0F8"
           },
           "zaxis": {
            "backgroundcolor": "white",
            "gridcolor": "#DFE8F3",
            "gridwidth": 2,
            "linecolor": "#EBF0F8",
            "showbackground": true,
            "ticks": "",
            "zerolinecolor": "#EBF0F8"
           }
          },
          "shapedefaults": {
           "line": {
            "color": "#2a3f5f"
           }
          },
          "ternary": {
           "aaxis": {
            "gridcolor": "#DFE8F3",
            "linecolor": "#A2B1C6",
            "ticks": ""
           },
           "baxis": {
            "gridcolor": "#DFE8F3",
            "linecolor": "#A2B1C6",
            "ticks": ""
           },
           "bgcolor": "white",
           "caxis": {
            "gridcolor": "#DFE8F3",
            "linecolor": "#A2B1C6",
            "ticks": ""
           }
          },
          "title": {
           "x": 0.05
          },
          "xaxis": {
           "automargin": true,
           "gridcolor": "#EBF0F8",
           "linecolor": "#EBF0F8",
           "ticks": "",
           "title": {
            "standoff": 15
           },
           "zerolinecolor": "#EBF0F8",
           "zerolinewidth": 2
          },
          "yaxis": {
           "automargin": true,
           "gridcolor": "#EBF0F8",
           "linecolor": "#EBF0F8",
           "ticks": "",
           "title": {
            "standoff": 15
           },
           "zerolinecolor": "#EBF0F8",
           "zerolinewidth": 2
          }
         }
        },
        "title": {
         "font": {
          "size": 35
         },
         "text": "<b>               mAP             mAP50<b>"
        },
        "width": 800,
        "xaxis": {
         "tickfont": {
          "family": "Old Standard TT, serif",
          "size": 20
         }
        },
        "yaxis": {
         "tickfont": {
          "family": "Old Standard TT, serif",
          "size": 23
         },
         "title": {
          "font": {
           "size": 30
          },
          "text": "<b>Parameter<b>"
         }
        }
       }
      },
      "text/html": [
       "<div>                            <div id=\"939fd978-078c-4c4b-b428-13181dbb4f18\" class=\"plotly-graph-div\" style=\"height:1600px; width:800px;\"></div>            <script type=\"text/javascript\">                require([\"plotly\"], function(Plotly) {                    window.PLOTLYENV=window.PLOTLYENV || {};                                    if (document.getElementById(\"939fd978-078c-4c4b-b428-13181dbb4f18\")) {                    Plotly.newPlot(                        \"939fd978-078c-4c4b-b428-13181dbb4f18\",                        [{\"colorscale\":[[0.0,\"rgb(165,0,38)\"],[0.1,\"rgb(215,48,39)\"],[0.2,\"rgb(244,109,67)\"],[0.3,\"rgb(253,174,97)\"],[0.4,\"rgb(254,224,139)\"],[0.5,\"rgb(255,255,191)\"],[0.6,\"rgb(217,239,139)\"],[0.7,\"rgb(166,217,106)\"],[0.8,\"rgb(102,189,99)\"],[0.9,\"rgb(26,152,80)\"],[1.0,\"rgb(0,104,55)\"]],\"hoverongaps\":false,\"text\":[[0.757,0.751,0.763,1.0,1.0,1.0],[0.235,0.326,0.144,0.475,0.736,0.215],[0.725,0.703,0.748,0.993,1.0,0.986],[0.788,0.773,0.802,0.997,1.0,0.995],[0.724,0.719,0.73,1.0,1.0,1.0],[0.156,0.265,0.048,0.376,0.639,0.113],[0.667,0.655,0.68,0.973,0.994,0.953],[0.718,0.711,0.725,0.991,1.0,0.983],[0.706,0.709,0.703,0.996,1.0,0.991],[0.136,0.19,0.082,0.347,0.524,0.17],[0.598,0.615,0.581,0.97,0.98,0.96],[0.676,0.694,0.658,0.976,0.999,0.952],[0.602,0.605,0.598,0.988,1.0,0.976],[0.075,0.131,0.018,0.211,0.372,0.05],[0.508,0.545,0.47,0.846,0.949,0.743],[0.596,0.641,0.552,0.959,0.997,0.921],[0.663,0.676,0.649,0.986,0.983,0.988],[0.149,0.285,0.013,0.353,0.686,0.02],[0.582,0.68,0.484,0.825,0.944,0.707],[0.548,0.623,0.473,0.828,0.95,0.706],[0.581,0.582,0.58,0.989,1.0,0.978],[0.124,0.247,0.001,0.306,0.611,0.001],[0.468,0.581,0.356,0.756,0.95,0.562],[0.478,0.517,0.44,0.795,0.92,0.67],[0.511,0.527,0.496,0.95,1.0,0.9],[0.048,0.096,0.0,0.172,0.344,0.0],[0.327,0.437,0.216,0.642,0.924,0.36],[0.362,0.399,0.326,0.728,0.875,0.58],[0.431,0.457,0.406,0.863,0.988,0.739],[0.036,0.071,0.0,0.125,0.25,0.0],[0.23,0.317,0.143,0.552,0.803,0.302],[0.274,0.343,0.206,0.667,0.903,0.431]],\"texttemplate\":\"%{text}\",\"x\":[\"mAP_Class_Whole\",\"mAP_Class_Blue\",\"mAP_Class_Orignial\",\"mAP50_Class_Whole\",\"mAP50_Class_Blue\",\"mAP50_Class_Orignial\"],\"y\":[\"Ov_4m_Co\",\"Ov_4m_Gr\",\"Ov_4m_SG\",\"Ov_4m_So\",\"Ov_6m_Co\",\"Ov_6m_Gr\",\"Ov_6m_SG\",\"Ov_6m_So\",\"Ov_8m_Co\",\"Ov_8m_Gr\",\"Ov_8m_SG\",\"Ov_8m_So\",\"Ov_10m_Co\",\"Ov_10m_Gr\",\"Ov_10m_SG\",\"Ov_10m_So\",\"Su_4m_Co\",\"Su_4m_Gr\",\"Su_4m_SG\",\"Su_4m_So\",\"Su_6m_Co\",\"Su_6m_Gr\",\"Su_6m_SG\",\"Su_6m_So\",\"Su_8m_Co\",\"Su_8m_Gr\",\"Su_8m_SG\",\"Su_8m_So\",\"Su_10m_Co\",\"Su_10m_Gr\",\"Su_10m_SG\",\"Su_10m_So\"],\"z\":[[0.757,0.751,0.763,1.0,1.0,1.0],[0.235,0.326,0.144,0.475,0.736,0.215],[0.725,0.703,0.748,0.993,1.0,0.986],[0.788,0.773,0.802,0.997,1.0,0.995],[0.724,0.719,0.73,1.0,1.0,1.0],[0.156,0.265,0.048,0.376,0.639,0.113],[0.667,0.655,0.68,0.973,0.994,0.953],[0.718,0.711,0.725,0.991,1.0,0.983],[0.706,0.709,0.703,0.996,1.0,0.991],[0.136,0.19,0.082,0.347,0.524,0.17],[0.598,0.615,0.581,0.97,0.98,0.96],[0.676,0.694,0.658,0.976,0.999,0.952],[0.602,0.605,0.598,0.988,1.0,0.976],[0.075,0.131,0.018,0.211,0.372,0.05],[0.508,0.545,0.47,0.846,0.949,0.743],[0.596,0.641,0.552,0.959,0.997,0.921],[0.663,0.676,0.649,0.986,0.983,0.988],[0.149,0.285,0.013,0.353,0.686,0.02],[0.582,0.68,0.484,0.825,0.944,0.707],[0.548,0.623,0.473,0.828,0.95,0.706],[0.581,0.582,0.58,0.989,1.0,0.978],[0.124,0.247,0.001,0.306,0.611,0.001],[0.468,0.581,0.356,0.756,0.95,0.562],[0.478,0.517,0.44,0.795,0.92,0.67],[0.511,0.527,0.496,0.95,1.0,0.9],[0.048,0.096,0.0,0.172,0.344,0.0],[0.327,0.437,0.216,0.642,0.924,0.36],[0.362,0.399,0.326,0.728,0.875,0.58],[0.431,0.457,0.406,0.863,0.988,0.739],[0.036,0.071,0.0,0.125,0.25,0.0],[0.23,0.317,0.143,0.552,0.803,0.302],[0.274,0.343,0.206,0.667,0.903,0.431]],\"type\":\"heatmap\"}],                        {\"height\":1600,\"width\":800,\"xaxis\":{\"tickfont\":{\"family\":\"Old Standard TT, serif\",\"size\":20}},\"yaxis\":{\"tickfont\":{\"family\":\"Old Standard TT, serif\",\"size\":23},\"title\":{\"text\":\"<b>Parameter<b>\",\"font\":{\"size\":30}}},\"template\":{\"data\":{\"barpolar\":[{\"marker\":{\"line\":{\"color\":\"white\",\"width\":0.5},\"pattern\":{\"fillmode\":\"overlay\",\"size\":10,\"solidity\":0.2}},\"type\":\"barpolar\"}],\"bar\":[{\"error_x\":{\"color\":\"#2a3f5f\"},\"error_y\":{\"color\":\"#2a3f5f\"},\"marker\":{\"line\":{\"color\":\"white\",\"width\":0.5},\"pattern\":{\"fillmode\":\"overlay\",\"size\":10,\"solidity\":0.2}},\"type\":\"bar\"}],\"carpet\":[{\"aaxis\":{\"endlinecolor\":\"#2a3f5f\",\"gridcolor\":\"#C8D4E3\",\"linecolor\":\"#C8D4E3\",\"minorgridcolor\":\"#C8D4E3\",\"startlinecolor\":\"#2a3f5f\"},\"baxis\":{\"endlinecolor\":\"#2a3f5f\",\"gridcolor\":\"#C8D4E3\",\"linecolor\":\"#C8D4E3\",\"minorgridcolor\":\"#C8D4E3\",\"startlinecolor\":\"#2a3f5f\"},\"type\":\"carpet\"}],\"choropleth\":[{\"colorbar\":{\"outlinewidth\":0,\"ticks\":\"\"},\"type\":\"choropleth\"}],\"contourcarpet\":[{\"colorbar\":{\"outlinewidth\":0,\"ticks\":\"\"},\"type\":\"contourcarpet\"}],\"contour\":[{\"colorbar\":{\"outlinewidth\":0,\"ticks\":\"\"},\"colorscale\":[[0.0,\"#0d0887\"],[0.1111111111111111,\"#46039f\"],[0.2222222222222222,\"#7201a8\"],[0.3333333333333333,\"#9c179e\"],[0.4444444444444444,\"#bd3786\"],[0.5555555555555556,\"#d8576b\"],[0.6666666666666666,\"#ed7953\"],[0.7777777777777778,\"#fb9f3a\"],[0.8888888888888888,\"#fdca26\"],[1.0,\"#f0f921\"]],\"type\":\"contour\"}],\"heatmapgl\":[{\"colorbar\":{\"outlinewidth\":0,\"ticks\":\"\"},\"colorscale\":[[0.0,\"#0d0887\"],[0.1111111111111111,\"#46039f\"],[0.2222222222222222,\"#7201a8\"],[0.3333333333333333,\"#9c179e\"],[0.4444444444444444,\"#bd3786\"],[0.5555555555555556,\"#d8576b\"],[0.6666666666666666,\"#ed7953\"],[0.7777777777777778,\"#fb9f3a\"],[0.8888888888888888,\"#fdca26\"],[1.0,\"#f0f921\"]],\"type\":\"heatmapgl\"}],\"heatmap\":[{\"colorbar\":{\"outlinewidth\":0,\"ticks\":\"\"},\"colorscale\":[[0.0,\"#0d0887\"],[0.1111111111111111,\"#46039f\"],[0.2222222222222222,\"#7201a8\"],[0.3333333333333333,\"#9c179e\"],[0.4444444444444444,\"#bd3786\"],[0.5555555555555556,\"#d8576b\"],[0.6666666666666666,\"#ed7953\"],[0.7777777777777778,\"#fb9f3a\"],[0.8888888888888888,\"#fdca26\"],[1.0,\"#f0f921\"]],\"type\":\"heatmap\"}],\"histogram2dcontour\":[{\"colorbar\":{\"outlinewidth\":0,\"ticks\":\"\"},\"colorscale\":[[0.0,\"#0d0887\"],[0.1111111111111111,\"#46039f\"],[0.2222222222222222,\"#7201a8\"],[0.3333333333333333,\"#9c179e\"],[0.4444444444444444,\"#bd3786\"],[0.5555555555555556,\"#d8576b\"],[0.6666666666666666,\"#ed7953\"],[0.7777777777777778,\"#fb9f3a\"],[0.8888888888888888,\"#fdca26\"],[1.0,\"#f0f921\"]],\"type\":\"histogram2dcontour\"}],\"histogram2d\":[{\"colorbar\":{\"outlinewidth\":0,\"ticks\":\"\"},\"colorscale\":[[0.0,\"#0d0887\"],[0.1111111111111111,\"#46039f\"],[0.2222222222222222,\"#7201a8\"],[0.3333333333333333,\"#9c179e\"],[0.4444444444444444,\"#bd3786\"],[0.5555555555555556,\"#d8576b\"],[0.6666666666666666,\"#ed7953\"],[0.7777777777777778,\"#fb9f3a\"],[0.8888888888888888,\"#fdca26\"],[1.0,\"#f0f921\"]],\"type\":\"histogram2d\"}],\"histogram\":[{\"marker\":{\"pattern\":{\"fillmode\":\"overlay\",\"size\":10,\"solidity\":0.2}},\"type\":\"histogram\"}],\"mesh3d\":[{\"colorbar\":{\"outlinewidth\":0,\"ticks\":\"\"},\"type\":\"mesh3d\"}],\"parcoords\":[{\"line\":{\"colorbar\":{\"outlinewidth\":0,\"ticks\":\"\"}},\"type\":\"parcoords\"}],\"pie\":[{\"automargin\":true,\"type\":\"pie\"}],\"scatter3d\":[{\"line\":{\"colorbar\":{\"outlinewidth\":0,\"ticks\":\"\"}},\"marker\":{\"colorbar\":{\"outlinewidth\":0,\"ticks\":\"\"}},\"type\":\"scatter3d\"}],\"scattercarpet\":[{\"marker\":{\"colorbar\":{\"outlinewidth\":0,\"ticks\":\"\"}},\"type\":\"scattercarpet\"}],\"scattergeo\":[{\"marker\":{\"colorbar\":{\"outlinewidth\":0,\"ticks\":\"\"}},\"type\":\"scattergeo\"}],\"scattergl\":[{\"marker\":{\"colorbar\":{\"outlinewidth\":0,\"ticks\":\"\"}},\"type\":\"scattergl\"}],\"scattermapbox\":[{\"marker\":{\"colorbar\":{\"outlinewidth\":0,\"ticks\":\"\"}},\"type\":\"scattermapbox\"}],\"scatterpolargl\":[{\"marker\":{\"colorbar\":{\"outlinewidth\":0,\"ticks\":\"\"}},\"type\":\"scatterpolargl\"}],\"scatterpolar\":[{\"marker\":{\"colorbar\":{\"outlinewidth\":0,\"ticks\":\"\"}},\"type\":\"scatterpolar\"}],\"scatter\":[{\"marker\":{\"colorbar\":{\"outlinewidth\":0,\"ticks\":\"\"}},\"type\":\"scatter\"}],\"scatterternary\":[{\"marker\":{\"colorbar\":{\"outlinewidth\":0,\"ticks\":\"\"}},\"type\":\"scatterternary\"}],\"surface\":[{\"colorbar\":{\"outlinewidth\":0,\"ticks\":\"\"},\"colorscale\":[[0.0,\"#0d0887\"],[0.1111111111111111,\"#46039f\"],[0.2222222222222222,\"#7201a8\"],[0.3333333333333333,\"#9c179e\"],[0.4444444444444444,\"#bd3786\"],[0.5555555555555556,\"#d8576b\"],[0.6666666666666666,\"#ed7953\"],[0.7777777777777778,\"#fb9f3a\"],[0.8888888888888888,\"#fdca26\"],[1.0,\"#f0f921\"]],\"type\":\"surface\"}],\"table\":[{\"cells\":{\"fill\":{\"color\":\"#EBF0F8\"},\"line\":{\"color\":\"white\"}},\"header\":{\"fill\":{\"color\":\"#C8D4E3\"},\"line\":{\"color\":\"white\"}},\"type\":\"table\"}]},\"layout\":{\"annotationdefaults\":{\"arrowcolor\":\"#2a3f5f\",\"arrowhead\":0,\"arrowwidth\":1},\"autotypenumbers\":\"strict\",\"coloraxis\":{\"colorbar\":{\"outlinewidth\":0,\"ticks\":\"\"}},\"colorscale\":{\"diverging\":[[0,\"#8e0152\"],[0.1,\"#c51b7d\"],[0.2,\"#de77ae\"],[0.3,\"#f1b6da\"],[0.4,\"#fde0ef\"],[0.5,\"#f7f7f7\"],[0.6,\"#e6f5d0\"],[0.7,\"#b8e186\"],[0.8,\"#7fbc41\"],[0.9,\"#4d9221\"],[1,\"#276419\"]],\"sequential\":[[0.0,\"#0d0887\"],[0.1111111111111111,\"#46039f\"],[0.2222222222222222,\"#7201a8\"],[0.3333333333333333,\"#9c179e\"],[0.4444444444444444,\"#bd3786\"],[0.5555555555555556,\"#d8576b\"],[0.6666666666666666,\"#ed7953\"],[0.7777777777777778,\"#fb9f3a\"],[0.8888888888888888,\"#fdca26\"],[1.0,\"#f0f921\"]],\"sequentialminus\":[[0.0,\"#0d0887\"],[0.1111111111111111,\"#46039f\"],[0.2222222222222222,\"#7201a8\"],[0.3333333333333333,\"#9c179e\"],[0.4444444444444444,\"#bd3786\"],[0.5555555555555556,\"#d8576b\"],[0.6666666666666666,\"#ed7953\"],[0.7777777777777778,\"#fb9f3a\"],[0.8888888888888888,\"#fdca26\"],[1.0,\"#f0f921\"]]},\"colorway\":[\"#636efa\",\"#EF553B\",\"#00cc96\",\"#ab63fa\",\"#FFA15A\",\"#19d3f3\",\"#FF6692\",\"#B6E880\",\"#FF97FF\",\"#FECB52\"],\"font\":{\"color\":\"#2a3f5f\"},\"geo\":{\"bgcolor\":\"white\",\"lakecolor\":\"white\",\"landcolor\":\"white\",\"showlakes\":true,\"showland\":true,\"subunitcolor\":\"#C8D4E3\"},\"hoverlabel\":{\"align\":\"left\"},\"hovermode\":\"closest\",\"mapbox\":{\"style\":\"light\"},\"paper_bgcolor\":\"white\",\"plot_bgcolor\":\"white\",\"polar\":{\"angularaxis\":{\"gridcolor\":\"#EBF0F8\",\"linecolor\":\"#EBF0F8\",\"ticks\":\"\"},\"bgcolor\":\"white\",\"radialaxis\":{\"gridcolor\":\"#EBF0F8\",\"linecolor\":\"#EBF0F8\",\"ticks\":\"\"}},\"scene\":{\"xaxis\":{\"backgroundcolor\":\"white\",\"gridcolor\":\"#DFE8F3\",\"gridwidth\":2,\"linecolor\":\"#EBF0F8\",\"showbackground\":true,\"ticks\":\"\",\"zerolinecolor\":\"#EBF0F8\"},\"yaxis\":{\"backgroundcolor\":\"white\",\"gridcolor\":\"#DFE8F3\",\"gridwidth\":2,\"linecolor\":\"#EBF0F8\",\"showbackground\":true,\"ticks\":\"\",\"zerolinecolor\":\"#EBF0F8\"},\"zaxis\":{\"backgroundcolor\":\"white\",\"gridcolor\":\"#DFE8F3\",\"gridwidth\":2,\"linecolor\":\"#EBF0F8\",\"showbackground\":true,\"ticks\":\"\",\"zerolinecolor\":\"#EBF0F8\"}},\"shapedefaults\":{\"line\":{\"color\":\"#2a3f5f\"}},\"ternary\":{\"aaxis\":{\"gridcolor\":\"#DFE8F3\",\"linecolor\":\"#A2B1C6\",\"ticks\":\"\"},\"baxis\":{\"gridcolor\":\"#DFE8F3\",\"linecolor\":\"#A2B1C6\",\"ticks\":\"\"},\"bgcolor\":\"white\",\"caxis\":{\"gridcolor\":\"#DFE8F3\",\"linecolor\":\"#A2B1C6\",\"ticks\":\"\"}},\"title\":{\"x\":0.05},\"xaxis\":{\"automargin\":true,\"gridcolor\":\"#EBF0F8\",\"linecolor\":\"#EBF0F8\",\"ticks\":\"\",\"title\":{\"standoff\":15},\"zerolinecolor\":\"#EBF0F8\",\"zerolinewidth\":2},\"yaxis\":{\"automargin\":true,\"gridcolor\":\"#EBF0F8\",\"linecolor\":\"#EBF0F8\",\"ticks\":\"\",\"title\":{\"standoff\":15},\"zerolinecolor\":\"#EBF0F8\",\"zerolinewidth\":2}}},\"title\":{\"text\":\"<b>               mAP             mAP50<b>\",\"font\":{\"size\":35}},\"annotations\":[{\"font\":{\"color\":\"black\",\"family\":\"Arial\",\"size\":12},\"showarrow\":false,\"text\":\" Whole Class     Blue Class    Original Class\",\"x\":1,\"y\":32},{\"font\":{\"color\":\"black\",\"family\":\"Arial\",\"size\":12},\"showarrow\":false,\"text\":\" Whole Class     Blue Class    Original Class\",\"x\":4,\"y\":32}]},                        {\"responsive\": true}                    ).then(function(){\n",
       "                            \n",
       "var gd = document.getElementById('939fd978-078c-4c4b-b428-13181dbb4f18');\n",
       "var x = new MutationObserver(function (mutations, observer) {{\n",
       "        var display = window.getComputedStyle(gd).display;\n",
       "        if (!display || display === 'none') {{\n",
       "            console.log([gd, 'removed!']);\n",
       "            Plotly.purge(gd);\n",
       "            observer.disconnect();\n",
       "        }}\n",
       "}});\n",
       "\n",
       "// Listen for the removal of the full notebook cells\n",
       "var notebookContainer = gd.closest('#notebook-container');\n",
       "if (notebookContainer) {{\n",
       "    x.observe(notebookContainer, {childList: true});\n",
       "}}\n",
       "\n",
       "// Listen for the clearing of the current output cell\n",
       "var outputEl = gd.closest('.output');\n",
       "if (outputEl) {{\n",
       "    x.observe(outputEl, {childList: true});\n",
       "}}\n",
       "\n",
       "                        })                };                });            </script>        </div>"
      ]
     },
     "metadata": {},
     "output_type": "display_data"
    }
   ],
   "source": [
    "# Prepare the main Dataframe which will contain raw for each parameter (total 32) and its columns will be \n",
    "# bbox_mAP for each class and bbox_mAP50 for each class (total 3)\n",
    "classes_names = ['Whole', 'Blue', 'Orignial']\n",
    "main_df = pd.DataFrame()\n",
    "main_df['parameter'] = dfs[0]['index']\n",
    "for metric in wanted_metrics:\n",
    "    for idx in range(3):\n",
    "        main_df[metric[5:]+'_Class_'+classes_names[idx]] = dfs[idx][metric]\n",
    "\n",
    "\n",
    "colorscale=None\n",
    "colorscale=\"rdylgn\"\n",
    "\n",
    "fig = go.Figure(data=go.Heatmap(\n",
    "                   z=main_df.iloc[:, 1:],\n",
    "                   x=main_df.columns[1:],\n",
    "                   y=main_df['parameter'], text=main_df.iloc[:, 1:], texttemplate=\"%{text}\",\n",
    "                   hoverongaps = False, colorscale= colorscale),\n",
    "                layout=go.Layout(height=1600, width=800, yaxis={'tickfont':{'size':23, 'family': 'Old Standard TT, serif'}},\n",
    "                                 xaxis={'tickfont':{'size':20, 'family': 'Old Standard TT, serif'}}))\n",
    "\n",
    "fig.update_layout(title='''<b>               mAP             mAP50<b>''', titlefont={'size': 35}, template='plotly_white', yaxis={'title':'<b>Parameter<b>', 'titlefont':{'size':30}})\n",
    "annotations = []\n",
    "annotations.append(dict(\n",
    "                        x=1, y=32,\n",
    "                        text=' Whole Class     Blue Class    Original Class',\n",
    "                        font=dict(family='Arial', size=12, color='black'),\n",
    "                        showarrow=False))\n",
    "\n",
    "annotations.append(dict(\n",
    "                        x=4, y=32,\n",
    "                        text=' Whole Class     Blue Class    Original Class',\n",
    "                        font=dict(family='Arial', size=12, color='black'),\n",
    "                        showarrow=False))\n",
    "\n",
    "\n",
    "fig.update_layout(annotations=annotations)\n",
    "fig.show()"
   ]
  },
  {
   "cell_type": "code",
   "execution_count": 9,
   "id": "a4e1181d",
   "metadata": {},
   "outputs": [
    {
     "data": {
      "text/html": [
       "<div>\n",
       "<style scoped>\n",
       "    .dataframe tbody tr th:only-of-type {\n",
       "        vertical-align: middle;\n",
       "    }\n",
       "\n",
       "    .dataframe tbody tr th {\n",
       "        vertical-align: top;\n",
       "    }\n",
       "\n",
       "    .dataframe thead th {\n",
       "        text-align: right;\n",
       "    }\n",
       "</style>\n",
       "<table border=\"1\" class=\"dataframe\">\n",
       "  <thead>\n",
       "    <tr style=\"text-align: right;\">\n",
       "      <th></th>\n",
       "      <th>parameter</th>\n",
       "      <th>mAP_Class_Whole</th>\n",
       "      <th>mAP_Class_Blue</th>\n",
       "      <th>mAP_Class_Orignial</th>\n",
       "      <th>mAP50_Class_Whole</th>\n",
       "      <th>mAP50_Class_Blue</th>\n",
       "      <th>mAP50_Class_Orignial</th>\n",
       "    </tr>\n",
       "  </thead>\n",
       "  <tbody>\n",
       "    <tr>\n",
       "      <th>28</th>\n",
       "      <td>Ov_4m_Co</td>\n",
       "      <td>0.757</td>\n",
       "      <td>0.751</td>\n",
       "      <td>0.763</td>\n",
       "      <td>1.000</td>\n",
       "      <td>1.000</td>\n",
       "      <td>1.000</td>\n",
       "    </tr>\n",
       "    <tr>\n",
       "      <th>7</th>\n",
       "      <td>Ov_4m_Gr</td>\n",
       "      <td>0.235</td>\n",
       "      <td>0.326</td>\n",
       "      <td>0.144</td>\n",
       "      <td>0.475</td>\n",
       "      <td>0.736</td>\n",
       "      <td>0.215</td>\n",
       "    </tr>\n",
       "    <tr>\n",
       "      <th>14</th>\n",
       "      <td>Ov_4m_SG</td>\n",
       "      <td>0.725</td>\n",
       "      <td>0.703</td>\n",
       "      <td>0.748</td>\n",
       "      <td>0.993</td>\n",
       "      <td>1.000</td>\n",
       "      <td>0.986</td>\n",
       "    </tr>\n",
       "    <tr>\n",
       "      <th>25</th>\n",
       "      <td>Ov_4m_So</td>\n",
       "      <td>0.788</td>\n",
       "      <td>0.773</td>\n",
       "      <td>0.802</td>\n",
       "      <td>0.997</td>\n",
       "      <td>1.000</td>\n",
       "      <td>0.995</td>\n",
       "    </tr>\n",
       "    <tr>\n",
       "      <th>2</th>\n",
       "      <td>Ov_6m_Co</td>\n",
       "      <td>0.724</td>\n",
       "      <td>0.719</td>\n",
       "      <td>0.730</td>\n",
       "      <td>1.000</td>\n",
       "      <td>1.000</td>\n",
       "      <td>1.000</td>\n",
       "    </tr>\n",
       "    <tr>\n",
       "      <th>4</th>\n",
       "      <td>Ov_6m_Gr</td>\n",
       "      <td>0.156</td>\n",
       "      <td>0.265</td>\n",
       "      <td>0.048</td>\n",
       "      <td>0.376</td>\n",
       "      <td>0.639</td>\n",
       "      <td>0.113</td>\n",
       "    </tr>\n",
       "    <tr>\n",
       "      <th>3</th>\n",
       "      <td>Ov_6m_SG</td>\n",
       "      <td>0.667</td>\n",
       "      <td>0.655</td>\n",
       "      <td>0.680</td>\n",
       "      <td>0.973</td>\n",
       "      <td>0.994</td>\n",
       "      <td>0.953</td>\n",
       "    </tr>\n",
       "    <tr>\n",
       "      <th>24</th>\n",
       "      <td>Ov_6m_So</td>\n",
       "      <td>0.718</td>\n",
       "      <td>0.711</td>\n",
       "      <td>0.725</td>\n",
       "      <td>0.991</td>\n",
       "      <td>1.000</td>\n",
       "      <td>0.983</td>\n",
       "    </tr>\n",
       "    <tr>\n",
       "      <th>5</th>\n",
       "      <td>Ov_8m_Co</td>\n",
       "      <td>0.706</td>\n",
       "      <td>0.709</td>\n",
       "      <td>0.703</td>\n",
       "      <td>0.996</td>\n",
       "      <td>1.000</td>\n",
       "      <td>0.991</td>\n",
       "    </tr>\n",
       "    <tr>\n",
       "      <th>30</th>\n",
       "      <td>Ov_8m_Gr</td>\n",
       "      <td>0.136</td>\n",
       "      <td>0.190</td>\n",
       "      <td>0.082</td>\n",
       "      <td>0.347</td>\n",
       "      <td>0.524</td>\n",
       "      <td>0.170</td>\n",
       "    </tr>\n",
       "    <tr>\n",
       "      <th>22</th>\n",
       "      <td>Ov_8m_SG</td>\n",
       "      <td>0.598</td>\n",
       "      <td>0.615</td>\n",
       "      <td>0.581</td>\n",
       "      <td>0.970</td>\n",
       "      <td>0.980</td>\n",
       "      <td>0.960</td>\n",
       "    </tr>\n",
       "    <tr>\n",
       "      <th>11</th>\n",
       "      <td>Ov_8m_So</td>\n",
       "      <td>0.676</td>\n",
       "      <td>0.694</td>\n",
       "      <td>0.658</td>\n",
       "      <td>0.976</td>\n",
       "      <td>0.999</td>\n",
       "      <td>0.952</td>\n",
       "    </tr>\n",
       "    <tr>\n",
       "      <th>21</th>\n",
       "      <td>Ov_10m_Co</td>\n",
       "      <td>0.602</td>\n",
       "      <td>0.605</td>\n",
       "      <td>0.598</td>\n",
       "      <td>0.988</td>\n",
       "      <td>1.000</td>\n",
       "      <td>0.976</td>\n",
       "    </tr>\n",
       "    <tr>\n",
       "      <th>18</th>\n",
       "      <td>Ov_10m_Gr</td>\n",
       "      <td>0.075</td>\n",
       "      <td>0.131</td>\n",
       "      <td>0.018</td>\n",
       "      <td>0.211</td>\n",
       "      <td>0.372</td>\n",
       "      <td>0.050</td>\n",
       "    </tr>\n",
       "    <tr>\n",
       "      <th>31</th>\n",
       "      <td>Ov_10m_SG</td>\n",
       "      <td>0.508</td>\n",
       "      <td>0.545</td>\n",
       "      <td>0.470</td>\n",
       "      <td>0.846</td>\n",
       "      <td>0.949</td>\n",
       "      <td>0.743</td>\n",
       "    </tr>\n",
       "    <tr>\n",
       "      <th>26</th>\n",
       "      <td>Ov_10m_So</td>\n",
       "      <td>0.596</td>\n",
       "      <td>0.641</td>\n",
       "      <td>0.552</td>\n",
       "      <td>0.959</td>\n",
       "      <td>0.997</td>\n",
       "      <td>0.921</td>\n",
       "    </tr>\n",
       "    <tr>\n",
       "      <th>29</th>\n",
       "      <td>Su_4m_Co</td>\n",
       "      <td>0.663</td>\n",
       "      <td>0.676</td>\n",
       "      <td>0.649</td>\n",
       "      <td>0.986</td>\n",
       "      <td>0.983</td>\n",
       "      <td>0.988</td>\n",
       "    </tr>\n",
       "    <tr>\n",
       "      <th>27</th>\n",
       "      <td>Su_4m_Gr</td>\n",
       "      <td>0.149</td>\n",
       "      <td>0.285</td>\n",
       "      <td>0.013</td>\n",
       "      <td>0.353</td>\n",
       "      <td>0.686</td>\n",
       "      <td>0.020</td>\n",
       "    </tr>\n",
       "    <tr>\n",
       "      <th>16</th>\n",
       "      <td>Su_4m_SG</td>\n",
       "      <td>0.582</td>\n",
       "      <td>0.680</td>\n",
       "      <td>0.484</td>\n",
       "      <td>0.825</td>\n",
       "      <td>0.944</td>\n",
       "      <td>0.707</td>\n",
       "    </tr>\n",
       "    <tr>\n",
       "      <th>17</th>\n",
       "      <td>Su_4m_So</td>\n",
       "      <td>0.548</td>\n",
       "      <td>0.623</td>\n",
       "      <td>0.473</td>\n",
       "      <td>0.828</td>\n",
       "      <td>0.950</td>\n",
       "      <td>0.706</td>\n",
       "    </tr>\n",
       "    <tr>\n",
       "      <th>23</th>\n",
       "      <td>Su_6m_Co</td>\n",
       "      <td>0.581</td>\n",
       "      <td>0.582</td>\n",
       "      <td>0.580</td>\n",
       "      <td>0.989</td>\n",
       "      <td>1.000</td>\n",
       "      <td>0.978</td>\n",
       "    </tr>\n",
       "    <tr>\n",
       "      <th>6</th>\n",
       "      <td>Su_6m_Gr</td>\n",
       "      <td>0.124</td>\n",
       "      <td>0.247</td>\n",
       "      <td>0.001</td>\n",
       "      <td>0.306</td>\n",
       "      <td>0.611</td>\n",
       "      <td>0.001</td>\n",
       "    </tr>\n",
       "    <tr>\n",
       "      <th>0</th>\n",
       "      <td>Su_6m_SG</td>\n",
       "      <td>0.468</td>\n",
       "      <td>0.581</td>\n",
       "      <td>0.356</td>\n",
       "      <td>0.756</td>\n",
       "      <td>0.950</td>\n",
       "      <td>0.562</td>\n",
       "    </tr>\n",
       "    <tr>\n",
       "      <th>1</th>\n",
       "      <td>Su_6m_So</td>\n",
       "      <td>0.478</td>\n",
       "      <td>0.517</td>\n",
       "      <td>0.440</td>\n",
       "      <td>0.795</td>\n",
       "      <td>0.920</td>\n",
       "      <td>0.670</td>\n",
       "    </tr>\n",
       "    <tr>\n",
       "      <th>8</th>\n",
       "      <td>Su_8m_Co</td>\n",
       "      <td>0.511</td>\n",
       "      <td>0.527</td>\n",
       "      <td>0.496</td>\n",
       "      <td>0.950</td>\n",
       "      <td>1.000</td>\n",
       "      <td>0.900</td>\n",
       "    </tr>\n",
       "    <tr>\n",
       "      <th>10</th>\n",
       "      <td>Su_8m_Gr</td>\n",
       "      <td>0.048</td>\n",
       "      <td>0.096</td>\n",
       "      <td>0.000</td>\n",
       "      <td>0.172</td>\n",
       "      <td>0.344</td>\n",
       "      <td>0.000</td>\n",
       "    </tr>\n",
       "    <tr>\n",
       "      <th>19</th>\n",
       "      <td>Su_8m_SG</td>\n",
       "      <td>0.327</td>\n",
       "      <td>0.437</td>\n",
       "      <td>0.216</td>\n",
       "      <td>0.642</td>\n",
       "      <td>0.924</td>\n",
       "      <td>0.360</td>\n",
       "    </tr>\n",
       "    <tr>\n",
       "      <th>15</th>\n",
       "      <td>Su_8m_So</td>\n",
       "      <td>0.362</td>\n",
       "      <td>0.399</td>\n",
       "      <td>0.326</td>\n",
       "      <td>0.728</td>\n",
       "      <td>0.875</td>\n",
       "      <td>0.580</td>\n",
       "    </tr>\n",
       "    <tr>\n",
       "      <th>9</th>\n",
       "      <td>Su_10m_Co</td>\n",
       "      <td>0.431</td>\n",
       "      <td>0.457</td>\n",
       "      <td>0.406</td>\n",
       "      <td>0.863</td>\n",
       "      <td>0.988</td>\n",
       "      <td>0.739</td>\n",
       "    </tr>\n",
       "    <tr>\n",
       "      <th>12</th>\n",
       "      <td>Su_10m_Gr</td>\n",
       "      <td>0.036</td>\n",
       "      <td>0.071</td>\n",
       "      <td>0.000</td>\n",
       "      <td>0.125</td>\n",
       "      <td>0.250</td>\n",
       "      <td>0.000</td>\n",
       "    </tr>\n",
       "    <tr>\n",
       "      <th>20</th>\n",
       "      <td>Su_10m_SG</td>\n",
       "      <td>0.230</td>\n",
       "      <td>0.317</td>\n",
       "      <td>0.143</td>\n",
       "      <td>0.552</td>\n",
       "      <td>0.803</td>\n",
       "      <td>0.302</td>\n",
       "    </tr>\n",
       "    <tr>\n",
       "      <th>13</th>\n",
       "      <td>Su_10m_So</td>\n",
       "      <td>0.274</td>\n",
       "      <td>0.343</td>\n",
       "      <td>0.206</td>\n",
       "      <td>0.667</td>\n",
       "      <td>0.903</td>\n",
       "      <td>0.431</td>\n",
       "    </tr>\n",
       "  </tbody>\n",
       "</table>\n",
       "</div>"
      ],
      "text/plain": [
       "    parameter  mAP_Class_Whole  mAP_Class_Blue  mAP_Class_Orignial  \\\n",
       "28   Ov_4m_Co            0.757           0.751               0.763   \n",
       "7    Ov_4m_Gr            0.235           0.326               0.144   \n",
       "14   Ov_4m_SG            0.725           0.703               0.748   \n",
       "25   Ov_4m_So            0.788           0.773               0.802   \n",
       "2    Ov_6m_Co            0.724           0.719               0.730   \n",
       "4    Ov_6m_Gr            0.156           0.265               0.048   \n",
       "3    Ov_6m_SG            0.667           0.655               0.680   \n",
       "24   Ov_6m_So            0.718           0.711               0.725   \n",
       "5    Ov_8m_Co            0.706           0.709               0.703   \n",
       "30   Ov_8m_Gr            0.136           0.190               0.082   \n",
       "22   Ov_8m_SG            0.598           0.615               0.581   \n",
       "11   Ov_8m_So            0.676           0.694               0.658   \n",
       "21  Ov_10m_Co            0.602           0.605               0.598   \n",
       "18  Ov_10m_Gr            0.075           0.131               0.018   \n",
       "31  Ov_10m_SG            0.508           0.545               0.470   \n",
       "26  Ov_10m_So            0.596           0.641               0.552   \n",
       "29   Su_4m_Co            0.663           0.676               0.649   \n",
       "27   Su_4m_Gr            0.149           0.285               0.013   \n",
       "16   Su_4m_SG            0.582           0.680               0.484   \n",
       "17   Su_4m_So            0.548           0.623               0.473   \n",
       "23   Su_6m_Co            0.581           0.582               0.580   \n",
       "6    Su_6m_Gr            0.124           0.247               0.001   \n",
       "0    Su_6m_SG            0.468           0.581               0.356   \n",
       "1    Su_6m_So            0.478           0.517               0.440   \n",
       "8    Su_8m_Co            0.511           0.527               0.496   \n",
       "10   Su_8m_Gr            0.048           0.096               0.000   \n",
       "19   Su_8m_SG            0.327           0.437               0.216   \n",
       "15   Su_8m_So            0.362           0.399               0.326   \n",
       "9   Su_10m_Co            0.431           0.457               0.406   \n",
       "12  Su_10m_Gr            0.036           0.071               0.000   \n",
       "20  Su_10m_SG            0.230           0.317               0.143   \n",
       "13  Su_10m_So            0.274           0.343               0.206   \n",
       "\n",
       "    mAP50_Class_Whole  mAP50_Class_Blue  mAP50_Class_Orignial  \n",
       "28              1.000             1.000                 1.000  \n",
       "7               0.475             0.736                 0.215  \n",
       "14              0.993             1.000                 0.986  \n",
       "25              0.997             1.000                 0.995  \n",
       "2               1.000             1.000                 1.000  \n",
       "4               0.376             0.639                 0.113  \n",
       "3               0.973             0.994                 0.953  \n",
       "24              0.991             1.000                 0.983  \n",
       "5               0.996             1.000                 0.991  \n",
       "30              0.347             0.524                 0.170  \n",
       "22              0.970             0.980                 0.960  \n",
       "11              0.976             0.999                 0.952  \n",
       "21              0.988             1.000                 0.976  \n",
       "18              0.211             0.372                 0.050  \n",
       "31              0.846             0.949                 0.743  \n",
       "26              0.959             0.997                 0.921  \n",
       "29              0.986             0.983                 0.988  \n",
       "27              0.353             0.686                 0.020  \n",
       "16              0.825             0.944                 0.707  \n",
       "17              0.828             0.950                 0.706  \n",
       "23              0.989             1.000                 0.978  \n",
       "6               0.306             0.611                 0.001  \n",
       "0               0.756             0.950                 0.562  \n",
       "1               0.795             0.920                 0.670  \n",
       "8               0.950             1.000                 0.900  \n",
       "10              0.172             0.344                 0.000  \n",
       "19              0.642             0.924                 0.360  \n",
       "15              0.728             0.875                 0.580  \n",
       "9               0.863             0.988                 0.739  \n",
       "12              0.125             0.250                 0.000  \n",
       "20              0.552             0.803                 0.302  \n",
       "13              0.667             0.903                 0.431  "
      ]
     },
     "execution_count": 9,
     "metadata": {},
     "output_type": "execute_result"
    }
   ],
   "source": [
    "main_df"
   ]
  },
  {
   "cell_type": "code",
   "execution_count": null,
   "id": "75b36d56",
   "metadata": {},
   "outputs": [],
   "source": []
  }
 ],
 "metadata": {
  "kernelspec": {
   "display_name": "Python 3 (ipykernel)",
   "language": "python",
   "name": "python3"
  },
  "language_info": {
   "codemirror_mode": {
    "name": "ipython",
    "version": 3
   },
   "file_extension": ".py",
   "mimetype": "text/x-python",
   "name": "python",
   "nbconvert_exporter": "python",
   "pygments_lexer": "ipython3",
   "version": "3.9.15"
  }
 },
 "nbformat": 4,
 "nbformat_minor": 5
}
